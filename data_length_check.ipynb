{
 "cells": [
  {
   "cell_type": "code",
   "execution_count": 16,
   "metadata": {
    "collapsed": true
   },
   "outputs": [],
   "source": [
    "import pandas as pd\n",
    "from tqdm import tqdm\n",
    "import numpy as np"
   ]
  },
  {
   "cell_type": "code",
   "execution_count": 22,
   "outputs": [],
   "source": [
    "items = pd.read_pickle('stock_data/CYBOS/default/stockitems_analysis.pickle')\n",
    "datapath = 'stock_data/CYBOS/indicator/Strong(complete)/'\n",
    "dataframe = pd.read_pickle(datapath+'daily_total.pickle')"
   ],
   "metadata": {
    "collapsed": false,
    "pycharm": {
     "name": "#%%\n"
    }
   }
  },
  {
   "cell_type": "code",
   "execution_count": 19,
   "outputs": [
    {
     "name": "stderr",
     "output_type": "stream",
     "text": [
      "100%|██████████| 2435/2435 [15:56<00:00,  2.54it/s]\n"
     ]
    }
   ],
   "source": [
    "pop_list = []\n",
    "for i in tqdm(np.array(items['code'])):\n",
    "\n",
    "    dataframe_length = len(dataframe[dataframe['code'] == i])\n",
    "\n",
    "    if dataframe_length != 3099:\n",
    "        pop_list.append(i)"
   ],
   "metadata": {
    "collapsed": false,
    "pycharm": {
     "name": "#%%\n"
    }
   }
  },
  {
   "cell_type": "code",
   "execution_count": 23,
   "outputs": [
    {
     "name": "stderr",
     "output_type": "stream",
     "text": [
      "100%|██████████| 1042/1042 [21:48<00:00,  1.26s/it]\n"
     ]
    }
   ],
   "source": [
    "for i in tqdm(pop_list):\n",
    "    idx_pop = dataframe[dataframe['code'] == i].index\n",
    "    dataframe = dataframe.drop(idx_pop)"
   ],
   "metadata": {
    "collapsed": false,
    "pycharm": {
     "name": "#%%\n"
    }
   }
  },
  {
   "cell_type": "code",
   "execution_count": 24,
   "outputs": [],
   "source": [
    "dataframe.to_pickle(datapath+'daily_3099.pickle')"
   ],
   "metadata": {
    "collapsed": false,
    "pycharm": {
     "name": "#%%\n"
    }
   }
  }
 ],
 "metadata": {
  "kernelspec": {
   "display_name": "Python 3",
   "language": "python",
   "name": "python3"
  },
  "language_info": {
   "codemirror_mode": {
    "name": "ipython",
    "version": 2
   },
   "file_extension": ".py",
   "mimetype": "text/x-python",
   "name": "python",
   "nbconvert_exporter": "python",
   "pygments_lexer": "ipython2",
   "version": "2.7.6"
  }
 },
 "nbformat": 4,
 "nbformat_minor": 0
}